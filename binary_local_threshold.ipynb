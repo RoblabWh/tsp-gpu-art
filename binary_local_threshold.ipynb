{
 "cells": [
  {
   "cell_type": "code",
   "execution_count": null,
   "metadata": {},
   "outputs": [],
   "source": [
    "import skimage\n",
    "print('skimage', skimage.__version__)\n",
    "import matplotlib.pyplot as plt\n",
    "%matplotlib inline\n",
    "import os\n",
    "import sys\n",
    "from skimage.filters import threshold_otsu, threshold_local\n",
    "from skimage import (\n",
    "    data, img_as_float, color, feature, filters, io, measure, morphology, segmentation, util\n",
    ")\n",
    "from skimage.feature import greycomatrix\n",
    "from skimage import img_as_uint\n",
    "\n",
    "CURRENT_DIR = os.path.abspath(os.path.dirname(__name__))\n",
    "LIBRARY_DIR = os.path.join(CURRENT_DIR, '..', '..')\n",
    "\n",
    "def saveas(name):\n",
    "    image_name = '{}.png'.format(name)\n",
    "    image_path = os.path.join(LIBRARY_DIR, 'site', '2020', '06', '21', 'images', image_name)\n",
    "    plt.savefig(image_path, facecolor='#f8fafb', bbox_inches='tight')"
   ]
  },
  {
   "cell_type": "code",
   "execution_count": null,
   "metadata": {},
   "outputs": [],
   "source": [
    "#convert ./data/Daisey.png -colorspace gray ./data/Daisey-grey.png\n",
    "image = io.imread('./data/Daisey-grey.png',as_grey=True)\n",
    "print(\"Type and shape of the image: \",image.dtype, image.shape)\n",
    "#image = img_as_float(img)\n",
    "#image= greycomatrix(image, [1], [0], 256, symmetric=False, normed=True)\n",
    "\n",
    "global_thresh = threshold_otsu(image)\n",
    "binary_global = image > global_thresh\n",
    "\n",
    "# hier kann mit der block_size und dem offset gespielt werden\n",
    "block_size = 75\n",
    "local_thresh = threshold_local(image, block_size, offset=10)\n",
    "binary_local = image > local_thresh\n",
    "\n",
    "# clean image e.g. set to 255 (white) all rows with indices \n",
    "#top\n",
    "binary_local[0:65] = 255\n",
    "# Similarly with the columns:\n",
    "#left\n",
    "binary_local[:, 0:80] = 255\n",
    "#rigth\n",
    "binary_local[:, 940:] = 255\n",
    "# and same blocks\n",
    "binary_local[310:640, 0:170] = 255\n",
    "binary_local[60:140, 590:] = 255\n",
    "binary_local[210:440, 780:] = 255\n",
    "print(binary_local.shape)\n",
    "\n",
    "io.imsave('./data/test-bin-local.png',img_as_uint(binary_local))\n",
    "\n",
    "fig, ax = plt.subplots(ncols=2,figsize=(12, 8))\n",
    "#ax = axes.ravel()\n",
    "#plt.gray()\n",
    "\n",
    "ax[0].imshow(image, cmap=plt.cm.gray)\n",
    "ax[0].set_title('Original')\n",
    "\n",
    "ax[1].imshow(binary_local, cmap=plt.cm.gray)\n",
    "ax[1].set_title('Local thresholding')\n",
    "#fig, ax = plt.subplots(figsize=(12, 12))\n",
    "#im = ax.imshow(binary_local, cmap=plt.cm.gray)\n",
    "\n",
    "#imshow(binary_local, cmap=plt.cm.gray)\n",
    "#ax.set_title('Local thresholding')\n",
    "\n",
    "#for a in ax:\n",
    "#    a.axis('off')\n",
    "\n",
    "plt.show()"
   ]
  },
  {
   "cell_type": "code",
   "execution_count": null,
   "metadata": {},
   "outputs": [],
   "source": [
    "from skimage.morphology import erosion, dilation, opening, closing, white_tophat\n",
    "from skimage.morphology import black_tophat, skeletonize, convex_hull_image\n",
    "from skimage.morphology import disk\n",
    "\n",
    "def plot_comparison(original, filtered, filter_name):\n",
    "\n",
    "    fig, (ax1, ax2) = plt.subplots(ncols=2, figsize=(12, 8)) #, sharex=True,            sharey=True)\n",
    "    ax1.imshow(original, cmap=plt.cm.gray)\n",
    "    ax1.set_title('original')\n",
    "    ax1.axis('off')\n",
    "    ax2.imshow(filtered, cmap=plt.cm.gray)\n",
    "    ax2.set_title(filter_name)\n",
    "    ax2.axis('off')\n"
   ]
  },
  {
   "cell_type": "code",
   "execution_count": null,
   "metadata": {},
   "outputs": [],
   "source": [
    "selem = disk(1)\n",
    "# delitation is erosion of white\n",
    "delitate = dilation(binary_local, selem)\n",
    "io.imsave('./data/test-bin-local-delitate.png',img_as_uint(delitate))\n",
    "plot_comparison(binary_local, delitate, 'delitaion')"
   ]
  },
  {
   "cell_type": "code",
   "execution_count": null,
   "metadata": {},
   "outputs": [],
   "source": [
    "fig, ax = plt.subplots(figsize=(12, 12))\n",
    "im = ax.imshow(delitate, cmap=plt.cm.gray)\n",
    "\n",
    "ax.set_title('Local thresholding + erosion')\n",
    "\n",
    "plt.show()"
   ]
  },
  {
   "cell_type": "code",
   "execution_count": null,
   "metadata": {},
   "outputs": [],
   "source": []
  },
  {
   "cell_type": "code",
   "execution_count": null,
   "metadata": {},
   "outputs": [],
   "source": []
  },
  {
   "cell_type": "code",
   "execution_count": null,
   "metadata": {},
   "outputs": [],
   "source": []
  },
  {
   "cell_type": "code",
   "execution_count": null,
   "metadata": {},
   "outputs": [],
   "source": []
  }
 ],
 "metadata": {
  "kernelspec": {
   "display_name": "Python 3",
   "language": "python",
   "name": "python3"
  },
  "language_info": {
   "codemirror_mode": {
    "name": "ipython",
    "version": 3
   },
   "file_extension": ".py",
   "mimetype": "text/x-python",
   "name": "python",
   "nbconvert_exporter": "python",
   "pygments_lexer": "ipython3",
   "version": "3.6.9"
  }
 },
 "nbformat": 4,
 "nbformat_minor": 2
}
