{
 "cells": [
  {
   "cell_type": "code",
   "execution_count": null,
   "metadata": {},
   "outputs": [],
   "source": [
    "%matplotlib inline\n",
    "import pandas as pd\n",
    "import matplotlib.pyplot as plt\n",
    "\n",
    "%pylab inline\n",
    "route = pd.read_csv(\"./data/test_trip.csv\")\n",
    "#route = pd.read_csv(\"/tmp/test_trip.csv\")\n",
    "\n",
    "print (route[route.duplicated(subset = 'location', keep = False)])\n",
    "#print route\n",
    "\n",
    "#3:2\n",
    "figure(num=None, figsize=(12, 8), dpi=80, facecolor='w', edgecolor='k')\n",
    "fig = plt.plot(route.loc[:,\"coordinate_x\"],route.loc[:, \"coordinate_y\"], linewidth = .99)\n",
    "#plt.ylim((0,20000))\n",
    "#plt.xlim((0,20000))\n",
    "plt.show()"
   ]
  },
  {
   "cell_type": "code",
   "execution_count": null,
   "metadata": {},
   "outputs": [],
   "source": [
    "\n",
    "\n",
    "\n"
   ]
  }
 ],
 "metadata": {
  "kernelspec": {
   "display_name": "Python 2",
   "language": "python",
   "name": "python2"
  },
  "language_info": {
   "codemirror_mode": {
    "name": "ipython",
    "version": 3
   },
   "file_extension": ".py",
   "mimetype": "text/x-python",
   "name": "python",
   "nbconvert_exporter": "python",
   "pygments_lexer": "ipython3",
   "version": "3.6.9"
  }
 },
 "nbformat": 4,
 "nbformat_minor": 1
}
